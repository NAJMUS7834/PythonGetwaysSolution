{
  "nbformat": 4,
  "nbformat_minor": 0,
  "metadata": {
    "colab": {
      "name": "week1.ipynb",
      "provenance": [],
      "collapsed_sections": [
        "ZaQGVXjHp8mv",
        "tLdl0X1h3DHS",
        "Igss1YHQIJ99",
        "imAHLOByOSad",
        "P9tSYNenoe8s"
      ],
      "authorship_tag": "ABX9TyOOIVyhaLk/pgSmzhpJt2ZM",
      "include_colab_link": true
    },
    "kernelspec": {
      "name": "python3",
      "display_name": "Python 3"
    }
  },
  "cells": [
    {
      "cell_type": "markdown",
      "metadata": {
        "id": "view-in-github",
        "colab_type": "text"
      },
      "source": [
        "<a href=\"https://colab.research.google.com/github/NAJMUS7834/PythonGetwaysSolution/blob/master/week1.ipynb\" target=\"_parent\"><img src=\"https://colab.research.google.com/assets/colab-badge.svg\" alt=\"Open In Colab\"/></a>"
      ]
    },
    {
      "cell_type": "markdown",
      "metadata": {
        "id": "ZaQGVXjHp8mv",
        "colab_type": "text"
      },
      "source": [
        "#1. Using Python As a Calculator\n",
        "\n",
        "\n",
        "*   data types-integer,float\n",
        "*   Variable Name\n",
        "*   Oprands\n",
        "*   value assignments\n",
        "\n",
        "```\n",
        "# This is formatted as code\n",
        "```\n",
        "\n",
        "\n",
        "\n",
        "\n",
        "\n"
      ]
    },
    {
      "cell_type": "code",
      "metadata": {
        "id": "oTgTKFwsoY56",
        "colab_type": "code",
        "colab": {}
      },
      "source": [
        "2+3 #Addition"
      ],
      "execution_count": 0,
      "outputs": []
    },
    {
      "cell_type": "code",
      "metadata": {
        "id": "_Fqjg9MMoq6S",
        "colab_type": "code",
        "colab": {}
      },
      "source": [
        "3-1 #Substraction"
      ],
      "execution_count": 0,
      "outputs": []
    },
    {
      "cell_type": "code",
      "metadata": {
        "id": "fiydC1ctot_v",
        "colab_type": "code",
        "colab": {}
      },
      "source": [
        "4/2 #Division"
      ],
      "execution_count": 0,
      "outputs": []
    },
    {
      "cell_type": "code",
      "metadata": {
        "id": "T7L5tiqIozQn",
        "colab_type": "code",
        "colab": {}
      },
      "source": [
        "5*2 #Multiplication"
      ],
      "execution_count": 0,
      "outputs": []
    },
    {
      "cell_type": "code",
      "metadata": {
        "id": "HUeDnQKno2cY",
        "colab_type": "code",
        "colab": {}
      },
      "source": [
        "5/2 #Division"
      ],
      "execution_count": 0,
      "outputs": []
    },
    {
      "cell_type": "code",
      "metadata": {
        "id": "cIAv5FLdvHJy",
        "colab_type": "code",
        "colab": {}
      },
      "source": [
        "5//2 #floor devision fractional part will be discarded"
      ],
      "execution_count": 0,
      "outputs": []
    },
    {
      "cell_type": "code",
      "metadata": {
        "id": "dn5Vi4QnvTGT",
        "colab_type": "code",
        "colab": {}
      },
      "source": [
        "6+4/2"
      ],
      "execution_count": 0,
      "outputs": []
    },
    {
      "cell_type": "code",
      "metadata": {
        "id": "xlzHs4SAvgue",
        "colab_type": "code",
        "colab": {}
      },
      "source": [
        "(6+4)/2 #parenthesis"
      ],
      "execution_count": 0,
      "outputs": []
    },
    {
      "cell_type": "code",
      "metadata": {
        "id": "Y4Uvx-pTy3_6",
        "colab_type": "code",
        "colab": {}
      },
      "source": [
        "n"
      ],
      "execution_count": 0,
      "outputs": []
    },
    {
      "cell_type": "markdown",
      "metadata": {
        "id": "8eMYn0Ho2wLf",
        "colab_type": "text"
      },
      "source": [
        "mix result of int and float will be float always"
      ]
    },
    {
      "cell_type": "code",
      "metadata": {
        "id": "90jjv_GS26pM",
        "colab_type": "code",
        "colab": {}
      },
      "source": [
        "2+4*6.0-10"
      ],
      "execution_count": 0,
      "outputs": []
    },
    {
      "cell_type": "markdown",
      "metadata": {
        "id": "9gD5PYSn2Y1J",
        "colab_type": "text"
      },
      "source": [
        "## 2.Data Types"
      ]
    },
    {
      "cell_type": "code",
      "metadata": {
        "id": "abI_g3g52ev3",
        "colab_type": "code",
        "colab": {}
      },
      "source": [
        "type(1)"
      ],
      "execution_count": 0,
      "outputs": []
    },
    {
      "cell_type": "code",
      "metadata": {
        "id": "uoZlnl0b2kwI",
        "colab_type": "code",
        "colab": {}
      },
      "source": [
        "type(4.0)"
      ],
      "execution_count": 0,
      "outputs": []
    },
    {
      "cell_type": "code",
      "metadata": {
        "id": "2RC56JFq2orM",
        "colab_type": "code",
        "colab": {}
      },
      "source": [
        "type(5+4.0)"
      ],
      "execution_count": 0,
      "outputs": []
    },
    {
      "cell_type": "markdown",
      "metadata": {
        "id": "tLdl0X1h3DHS",
        "colab_type": "text"
      },
      "source": [
        "# 2. Strings\n",
        "\n",
        "\n",
        "*   Object Creation with '...' and \".....\"\n",
        "*   syntax\n",
        "*   print\n",
        "*   Special keys- \\\n",
        "*   Concatination\n",
        "*   Working With this Sytring\n",
        "*   Indexing\n",
        "*   Slicing\n",
        "*   immutablity of strings\n",
        "*   length of strings\n",
        "\n",
        "\n",
        "\n",
        "\n",
        "\n",
        "\n",
        "\n",
        "\n"
      ]
    },
    {
      "cell_type": "code",
      "metadata": {
        "id": "OPgVPIvm66KJ",
        "colab_type": "code",
        "colab": {}
      },
      "source": [
        "king"
      ],
      "execution_count": 0,
      "outputs": []
    },
    {
      "cell_type": "code",
      "metadata": {
        "id": "oNrIiLZR4VyC",
        "colab_type": "code",
        "colab": {}
      },
      "source": [
        "'king'   #single quote"
      ],
      "execution_count": 0,
      "outputs": []
    },
    {
      "cell_type": "code",
      "metadata": {
        "id": "y6K64tqD6yef",
        "colab_type": "code",
        "colab": {}
      },
      "source": [
        "\"king\"  #double quote"
      ],
      "execution_count": 0,
      "outputs": []
    },
    {
      "cell_type": "code",
      "metadata": {
        "id": "t9UKkvUr69fC",
        "colab_type": "code",
        "colab": {}
      },
      "source": [
        "'king's new lie'    #Use double quote to work around single quote"
      ],
      "execution_count": 0,
      "outputs": []
    },
    {
      "cell_type": "code",
      "metadata": {
        "id": "cvzzfozG8KNZ",
        "colab_type": "code",
        "colab": {}
      },
      "source": [
        "'king\\'s new lie'   #use '\\' symbol to work around single quote"
      ],
      "execution_count": 0,
      "outputs": []
    },
    {
      "cell_type": "code",
      "metadata": {
        "id": "HsNVH3tz8_iT",
        "colab_type": "code",
        "colab": {}
      },
      "source": [
        "print('line 1')\n",
        "print('line 2')"
      ],
      "execution_count": 0,
      "outputs": []
    },
    {
      "cell_type": "code",
      "metadata": {
        "id": "BYFyEbpe9OdC",
        "colab_type": "code",
        "colab": {}
      },
      "source": [
        "print('c:\\Dropbox\\new')     #'\\n' will change line"
      ],
      "execution_count": 0,
      "outputs": []
    },
    {
      "cell_type": "code",
      "metadata": {
        "id": "ZrQCqB1c96r4",
        "colab_type": "code",
        "colab": {}
      },
      "source": [
        "print(r'c:\\Dropbox\\new')     #'r' will take whole statement as raw string"
      ],
      "execution_count": 0,
      "outputs": []
    },
    {
      "cell_type": "code",
      "metadata": {
        "id": "lsiKSCnY-lhC",
        "colab_type": "code",
        "colab": {}
      },
      "source": [
        "print(\"\"\"\n",
        "i love\n",
        "python\n",
        "\"\"\")"
      ],
      "execution_count": 0,
      "outputs": []
    },
    {
      "cell_type": "code",
      "metadata": {
        "id": "QC-d_Q6__INW",
        "colab_type": "code",
        "colab": {}
      },
      "source": [
        "print(\"\"\"\\\n",
        "i love\n",
        "python\n",
        "\"\"\")   \n",
        "#prevents automatic inclusion of end of line '\\'"
      ],
      "execution_count": 0,
      "outputs": []
    },
    {
      "cell_type": "markdown",
      "metadata": {
        "id": "W2UAm6UUGAtc",
        "colab_type": "text"
      },
      "source": [
        "**+** is use for concatination"
      ]
    },
    {
      "cell_type": "code",
      "metadata": {
        "id": "ycZBfJtsFutZ",
        "colab_type": "code",
        "colab": {}
      },
      "source": [
        "\"I love \"+\"Python\""
      ],
      "execution_count": 0,
      "outputs": []
    },
    {
      "cell_type": "code",
      "metadata": {
        "id": "qn9Fy9u0GONB",
        "colab_type": "code",
        "colab": {}
      },
      "source": [
        "10*' python'"
      ],
      "execution_count": 0,
      "outputs": []
    },
    {
      "cell_type": "code",
      "metadata": {
        "id": "vjh8MGN6Gpek",
        "colab_type": "code",
        "colab": {}
      },
      "source": [
        "\"I love\"  \" Python\" #automatic merge"
      ],
      "execution_count": 0,
      "outputs": []
    },
    {
      "cell_type": "code",
      "metadata": {
        "id": "5R8KxtiDHbgC",
        "colab_type": "code",
        "colab": {}
      },
      "source": [
        "FirstName='Najmus'"
      ],
      "execution_count": 0,
      "outputs": []
    },
    {
      "cell_type": "code",
      "metadata": {
        "id": "0GZ3hR03Higw",
        "colab_type": "code",
        "colab": {}
      },
      "source": [
        "FirstName + ' Seemab'"
      ],
      "execution_count": 0,
      "outputs": []
    },
    {
      "cell_type": "markdown",
      "metadata": {
        "id": "Igss1YHQIJ99",
        "colab_type": "text"
      },
      "source": [
        "# 3. Indexing\n",
        "python use 0-based Indexing"
      ]
    },
    {
      "cell_type": "code",
      "metadata": {
        "id": "lm88B1vhIgi4",
        "colab_type": "code",
        "colab": {}
      },
      "source": [
        "Sentance = \"I LOVE GetWays Solution\""
      ],
      "execution_count": 0,
      "outputs": []
    },
    {
      "cell_type": "code",
      "metadata": {
        "id": "KDuhU33bIz2g",
        "colab_type": "code",
        "colab": {}
      },
      "source": [
        "Sentance[0]"
      ],
      "execution_count": 0,
      "outputs": []
    },
    {
      "cell_type": "code",
      "metadata": {
        "id": "SmwX3z1fI3-t",
        "colab_type": "code",
        "colab": {}
      },
      "source": [
        "Sentance[4]"
      ],
      "execution_count": 0,
      "outputs": []
    },
    {
      "cell_type": "code",
      "metadata": {
        "id": "34jZj4kcI8og",
        "colab_type": "code",
        "colab": {}
      },
      "source": [
        "Sentance[-1]"
      ],
      "execution_count": 0,
      "outputs": []
    },
    {
      "cell_type": "code",
      "metadata": {
        "id": "1G6vkfaIJCsm",
        "colab_type": "code",
        "colab": {}
      },
      "source": [
        "Sentance[-4]"
      ],
      "execution_count": 0,
      "outputs": []
    },
    {
      "cell_type": "markdown",
      "metadata": {
        "id": "tZyAonNDMTHl",
        "colab_type": "text"
      },
      "source": [
        "# Slicing"
      ]
    },
    {
      "cell_type": "code",
      "metadata": {
        "id": "zJ5vqpg6MWx9",
        "colab_type": "code",
        "colab": {}
      },
      "source": [
        "Sentance"
      ],
      "execution_count": 0,
      "outputs": []
    },
    {
      "cell_type": "code",
      "metadata": {
        "id": "OUPv3UBDNK3X",
        "colab_type": "code",
        "colab": {}
      },
      "source": [
        "Sentance[0:5]"
      ],
      "execution_count": 0,
      "outputs": []
    },
    {
      "cell_type": "code",
      "metadata": {
        "id": "w2cQu8DRNQSz",
        "colab_type": "code",
        "colab": {}
      },
      "source": [
        "Sentance[0:]"
      ],
      "execution_count": 0,
      "outputs": []
    },
    {
      "cell_type": "code",
      "metadata": {
        "id": "KQO5u0U9NW-w",
        "colab_type": "code",
        "colab": {}
      },
      "source": [
        "Sentance[7:]"
      ],
      "execution_count": 0,
      "outputs": []
    },
    {
      "cell_type": "code",
      "metadata": {
        "id": "z9m133t0Ncrm",
        "colab_type": "code",
        "colab": {}
      },
      "source": [
        "Sentance[:7]"
      ],
      "execution_count": 0,
      "outputs": []
    },
    {
      "cell_type": "code",
      "metadata": {
        "id": "5FGdzn--NpoI",
        "colab_type": "code",
        "colab": {}
      },
      "source": [
        "Sentance[-8:]"
      ],
      "execution_count": 0,
      "outputs": []
    },
    {
      "cell_type": "code",
      "metadata": {
        "id": "uIkeigMGNyG-",
        "colab_type": "code",
        "colab": {}
      },
      "source": [
        "Sentance[7:54]"
      ],
      "execution_count": 0,
      "outputs": []
    },
    {
      "cell_type": "code",
      "metadata": {
        "id": "bv_3tyQYN7PE",
        "colab_type": "code",
        "colab": {}
      },
      "source": [
        "Sentance[54]"
      ],
      "execution_count": 0,
      "outputs": []
    },
    {
      "cell_type": "markdown",
      "metadata": {
        "id": "imAHLOByOSad",
        "colab_type": "text"
      },
      "source": [
        "# Strings are immutable\n",
        "it means we cannot change its value"
      ]
    },
    {
      "cell_type": "code",
      "metadata": {
        "id": "os10hRErOimg",
        "colab_type": "code",
        "colab": {}
      },
      "source": [
        "Sentance"
      ],
      "execution_count": 0,
      "outputs": []
    },
    {
      "cell_type": "code",
      "metadata": {
        "id": "rnPR41J8OnDm",
        "colab_type": "code",
        "colab": {}
      },
      "source": [
        "Sentance[0]='w'"
      ],
      "execution_count": 0,
      "outputs": []
    },
    {
      "cell_type": "code",
      "metadata": {
        "id": "vDPhFJD_O9vu",
        "colab_type": "code",
        "colab": {}
      },
      "source": [
        "'We'+Sentance[1:]"
      ],
      "execution_count": 0,
      "outputs": []
    },
    {
      "cell_type": "code",
      "metadata": {
        "id": "B7UbZjblPcOH",
        "colab_type": "code",
        "colab": {}
      },
      "source": [
        "len(Sentance)"
      ],
      "execution_count": 0,
      "outputs": []
    },
    {
      "cell_type": "markdown",
      "metadata": {
        "id": "P9tSYNenoe8s",
        "colab_type": "text"
      },
      "source": [
        "#4. Lists\n",
        "*   objection creation and comma-separated items with square brackets [...]\n",
        "*   indexing\n",
        "*   slicing\n",
        "*   Lists are mutable\n",
        "*   adding new items by using append()\n",
        "*   value assignment\n",
        "*   lenght of list\n",
        "*   nesting list\n",
        "\n"
      ]
    },
    {
      "cell_type": "code",
      "metadata": {
        "id": "sUaIGC9kpnR3",
        "colab_type": "code",
        "colab": {}
      },
      "source": [
        "List = [2,4,6,8,10]"
      ],
      "execution_count": 0,
      "outputs": []
    },
    {
      "cell_type": "code",
      "metadata": {
        "id": "qlYQDHD-Ntml",
        "colab_type": "code",
        "colab": {}
      },
      "source": [
        "List"
      ],
      "execution_count": 0,
      "outputs": []
    },
    {
      "cell_type": "code",
      "metadata": {
        "id": "IfJQukuWOnq8",
        "colab_type": "code",
        "colab": {}
      },
      "source": [
        "List[0]"
      ],
      "execution_count": 0,
      "outputs": []
    },
    {
      "cell_type": "code",
      "metadata": {
        "id": "4Buk1BjYPzdl",
        "colab_type": "code",
        "colab": {}
      },
      "source": [
        "List[-1]"
      ],
      "execution_count": 0,
      "outputs": []
    },
    {
      "cell_type": "code",
      "metadata": {
        "id": "6U7GvbFYP4Vh",
        "colab_type": "code",
        "colab": {}
      },
      "source": [
        "len(List)"
      ],
      "execution_count": 0,
      "outputs": []
    },
    {
      "cell_type": "code",
      "metadata": {
        "id": "dVbcDj4hP8GL",
        "colab_type": "code",
        "colab": {}
      },
      "source": [
        "List[1:4]"
      ],
      "execution_count": 0,
      "outputs": []
    },
    {
      "cell_type": "code",
      "metadata": {
        "id": "TFwEV5QuQbTi",
        "colab_type": "code",
        "colab": {}
      },
      "source": [
        "List + List"
      ],
      "execution_count": 0,
      "outputs": []
    },
    {
      "cell_type": "code",
      "metadata": {
        "id": "x024nCiLQlgn",
        "colab_type": "code",
        "colab": {}
      },
      "source": [
        "List"
      ],
      "execution_count": 0,
      "outputs": []
    },
    {
      "cell_type": "markdown",
      "metadata": {
        "id": "2QWrawlZQxm3",
        "colab_type": "text"
      },
      "source": [
        "# List is mutable\n",
        "It mean we can change list."
      ]
    },
    {
      "cell_type": "code",
      "metadata": {
        "id": "Dle-MiRxQpSs",
        "colab_type": "code",
        "colab": {}
      },
      "source": [
        "List[1]=20"
      ],
      "execution_count": 0,
      "outputs": []
    },
    {
      "cell_type": "code",
      "metadata": {
        "id": "Iz-akCHSQty_",
        "colab_type": "code",
        "colab": {}
      },
      "source": [
        "List"
      ],
      "execution_count": 0,
      "outputs": []
    },
    {
      "cell_type": "markdown",
      "metadata": {
        "id": "sZN2mr1aRYyR",
        "colab_type": "text"
      },
      "source": [
        "# 5. List of List"
      ]
    },
    {
      "cell_type": "code",
      "metadata": {
        "id": "fPHcVbSpReMv",
        "colab_type": "code",
        "colab": {}
      },
      "source": [
        "list1 = ['Najmus','GetWays','Solution']\n",
        "list2 = [1,2,3]"
      ],
      "execution_count": 0,
      "outputs": []
    },
    {
      "cell_type": "code",
      "metadata": {
        "id": "hY9i_PJURx4b",
        "colab_type": "code",
        "colab": {}
      },
      "source": [
        "p = [list1, list2]\n",
        "p"
      ],
      "execution_count": 0,
      "outputs": []
    },
    {
      "cell_type": "code",
      "metadata": {
        "id": "R90j5j9RSNJT",
        "colab_type": "code",
        "colab": {}
      },
      "source": [
        "p[0]"
      ],
      "execution_count": 0,
      "outputs": []
    },
    {
      "cell_type": "code",
      "metadata": {
        "id": "9P8dDCcMSQcT",
        "colab_type": "code",
        "colab": {}
      },
      "source": [
        "p[0][1]"
      ],
      "execution_count": 0,
      "outputs": []
    },
    {
      "cell_type": "code",
      "metadata": {
        "id": "SGUtR6RaSWdy",
        "colab_type": "code",
        "colab": {}
      },
      "source": [
        "p[0][1:]"
      ],
      "execution_count": 0,
      "outputs": []
    },
    {
      "cell_type": "markdown",
      "metadata": {
        "id": "elhhfQluXoDr",
        "colab_type": "text"
      },
      "source": [
        "\n",
        "# 6. First Steps Towards Programming\n",
        "### Learning outcome:\n",
        "*   multiple assignment\n",
        "*   flow control - while loop\n",
        "*  code block and indentation\n",
        "*  print()\n",
        "*  assignment and evaluation\n",
        "*  Let's write a simple program that calculate the cube for the first 10 numbers"
      ]
    },
    {
      "cell_type": "code",
      "metadata": {
        "id": "tir5IPyFbn9B",
        "colab_type": "code",
        "colab": {}
      },
      "source": [
        "i=0\n",
        "while i<11:\n",
        "  print(\"The cube of {0} is {1}\".format(i,i**3))\n",
        "  i+=1"
      ],
      "execution_count": 0,
      "outputs": []
    }
  ]
}