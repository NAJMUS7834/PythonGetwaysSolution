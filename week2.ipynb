{
  "nbformat": 4,
  "nbformat_minor": 0,
  "metadata": {
    "colab": {
      "name": "week2.ipynb",
      "provenance": [],
      "collapsed_sections": [
        "XEuHWNKddBZk"
      ],
      "authorship_tag": "ABX9TyOsGzz7SvRpTV34WXL3djWg",
      "include_colab_link": true
    },
    "kernelspec": {
      "name": "python3",
      "display_name": "Python 3"
    }
  },
  "cells": [
    {
      "cell_type": "markdown",
      "metadata": {
        "id": "view-in-github",
        "colab_type": "text"
      },
      "source": [
        "<a href=\"https://colab.research.google.com/github/NAJMUS7834/PythonGetwaysSolution/blob/master/week2.ipynb\" target=\"_parent\"><img src=\"https://colab.research.google.com/assets/colab-badge.svg\" alt=\"Open In Colab\"/></a>"
      ]
    },
    {
      "cell_type": "markdown",
      "metadata": {
        "id": "XEuHWNKddBZk",
        "colab_type": "text"
      },
      "source": [
        "# 1. Flow Control\n",
        "### if Statements\n",
        "if... elif... else\n",
        "\n",
        "\n",
        "*   A*: 91% and above\n",
        "*   A: 75% to below 91%\n",
        "*   B: 60% to below 75%\n",
        "*   C: 50% to below 60%\n",
        "*   D: 35% to below 50%\n",
        "*   E: 20% to below 35%\n",
        "*   U: Below 20%\n",
        "\n",
        "### The standard comparison operators are:\n",
        "*   (<) (less than)\n",
        "*   (>) (greater than)\n",
        "*   (==) (equal to)\n",
        "*   (<=) (less than or equal to),\n",
        "*   (>=) (greater than or equal to) and\n",
        "*   (!=) (not equal to)."
      ]
    },
    {
      "cell_type": "code",
      "metadata": {
        "id": "2o0roOt-c766",
        "colab_type": "code",
        "colab": {}
      },
      "source": [
        "result = int(input(\"Enter Score: \"))\n",
        "if result>=91:\n",
        "  print(\"A*\")\n",
        "elif 91>result>=75:\n",
        "  print(\"A\")\n",
        "elif 75>result>=60:\n",
        "  print(\"B\")\n",
        "elif 60>result>=50:\n",
        "  print(\"C\")\n",
        "elif 50>result>=35:\n",
        "  print(\"D\")\n",
        "elif 35>result>=20:\n",
        "  print(\"E\")\n",
        "else:\n",
        "  print(\"U\")"
      ],
      "execution_count": 0,
      "outputs": []
    },
    {
      "cell_type": "markdown",
      "metadata": {
        "id": "1OBvxmTepSUl",
        "colab_type": "text"
      },
      "source": [
        "# 2. for Statements\n",
        "\n",
        "Python’s for statement iterates over the items of any sequence (a list or a string), in the order that they appear in the sequence"
      ]
    },
    {
      "cell_type": "code",
      "metadata": {
        "id": "8tO0rMhEpkk2",
        "colab_type": "code",
        "colab": {}
      },
      "source": [
        "fruit = ['Apple','Orange','Banana','Papaya']\n",
        "for f in fruit:\n",
        "  print(f,len(f),f.upper())"
      ],
      "execution_count": 0,
      "outputs": []
    },
    {
      "cell_type": "markdown",
      "metadata": {
        "id": "KnR33p-jEsit",
        "colab_type": "text"
      },
      "source": [
        "\n",
        "### The range() Function\n",
        "*   Generates arithmetic progressions\n",
        "### iterate over a sequence of numbers"
      ]
    },
    {
      "cell_type": "code",
      "metadata": {
        "id": "iikg7fW4FGNg",
        "colab_type": "code",
        "colab": {}
      },
      "source": [
        "for i in range(5):\n",
        "  print(i)"
      ],
      "execution_count": 0,
      "outputs": []
    },
    {
      "cell_type": "code",
      "metadata": {
        "id": "uC6EIP-8F82R",
        "colab_type": "code",
        "colab": {}
      },
      "source": [
        "for i in range(-4,6,2):     #range(start,end before,interval)\n",
        "  print(i)"
      ],
      "execution_count": 0,
      "outputs": []
    },
    {
      "cell_type": "code",
      "metadata": {
        "id": "haeI6WTMGqLX",
        "colab_type": "code",
        "colab": {}
      },
      "source": [
        "for i in range(len(fruit)):\n",
        "  print(i, fruit[i])"
      ],
      "execution_count": 0,
      "outputs": []
    },
    {
      "cell_type": "markdown",
      "metadata": {
        "id": "1qszr3b3G605",
        "colab_type": "text"
      },
      "source": [
        "\n",
        "[Definition:](http://book.pythontips.com/en/latest/enumerate.html) Emumnerate allows us to loop over iterable items and generates an automatic counter."
      ]
    },
    {
      "cell_type": "code",
      "metadata": {
        "id": "wVXdL7r-HI4U",
        "colab_type": "code",
        "colab": {}
      },
      "source": [
        "for i, v in enumerate(fruit):\n",
        "    print(i, v)"
      ],
      "execution_count": 0,
      "outputs": []
    },
    {
      "cell_type": "code",
      "metadata": {
        "id": "cLvM0OYrH8av",
        "colab_type": "code",
        "colab": {}
      },
      "source": [
        "range(5)"
      ],
      "execution_count": 0,
      "outputs": []
    },
    {
      "cell_type": "code",
      "metadata": {
        "id": "Rp0O7zluHjhh",
        "colab_type": "code",
        "colab": {}
      },
      "source": [
        "list(range(5))"
      ],
      "execution_count": 0,
      "outputs": []
    },
    {
      "cell_type": "code",
      "metadata": {
        "id": "4a93ItmKHt7v",
        "colab_type": "code",
        "colab": {}
      },
      "source": [
        "list(fruit)"
      ],
      "execution_count": 0,
      "outputs": []
    },
    {
      "cell_type": "markdown",
      "metadata": {
        "id": "smyreZrDIvsp",
        "colab_type": "text"
      },
      "source": [
        "# 3. break, and continue Statements, and else Clauses on Loops\n",
        "*   The break statement, breaks out of the innermost enclosing for or while loop.\n",
        "\n"
      ]
    },
    {
      "cell_type": "code",
      "metadata": {
        "id": "pin8-wyeJChh",
        "colab_type": "code",
        "colab": {}
      },
      "source": [
        "for i in fruit:\n",
        "  if i=='Orange':\n",
        "    print(\"I love\",i)\n",
        "    break\n",
        "  else:\n",
        "    print(\"This is\",i)"
      ],
      "execution_count": 0,
      "outputs": []
    },
    {
      "cell_type": "code",
      "metadata": {
        "id": "vvFvJuOTKgAE",
        "colab_type": "code",
        "colab": {}
      },
      "source": [
        "for i in fruit:\n",
        "  if i=='Orange':\n",
        "    print(\"I love\",i)\n",
        "    continue\n",
        "  else:\n",
        "    print(\"This is\",i)"
      ],
      "execution_count": 0,
      "outputs": []
    },
    {
      "cell_type": "markdown",
      "metadata": {
        "id": "b4TJPhwpPPE_",
        "colab_type": "text"
      },
      "source": [
        "# 4. Defining Functions\n",
        "[Link](https://docs.python.org/3.6/tutorial/controlflow.html#defining-functions)\n",
        ">- conventions about the content and formatting of documentation strings (doc string).\n",
        ">-The first line should always be a short, concise summary of the object’s purpose."
      ]
    },
    {
      "cell_type": "code",
      "metadata": {
        "id": "npM5SRcrQ8CI",
        "colab_type": "code",
        "colab": {}
      },
      "source": [
        "def square(i):\n",
        "  return i*i"
      ],
      "execution_count": 0,
      "outputs": []
    },
    {
      "cell_type": "code",
      "metadata": {
        "id": "0itMUV9HQ8AT",
        "colab_type": "code",
        "colab": {}
      },
      "source": [
        "square(8)"
      ],
      "execution_count": 0,
      "outputs": []
    },
    {
      "cell_type": "code",
      "metadata": {
        "id": "EKq3gNY6ROk5",
        "colab_type": "code",
        "colab": {}
      },
      "source": [
        "def add(i,j):\n",
        "  return i+j"
      ],
      "execution_count": 0,
      "outputs": []
    },
    {
      "cell_type": "code",
      "metadata": {
        "id": "X3qBOJilRXX5",
        "colab_type": "code",
        "colab": {}
      },
      "source": [
        "add(4,5)"
      ],
      "execution_count": 0,
      "outputs": []
    },
    {
      "cell_type": "code",
      "metadata": {
        "id": "qZxQtaUwR6_t",
        "colab_type": "code",
        "colab": {}
      },
      "source": [
        "def fabb(n):\n",
        "  result = []\n",
        "  a,b=0,1\n",
        "  while(a<n):\n",
        "    result.append(a)\n",
        "    a,b=b,a+b\n",
        "  return result"
      ],
      "execution_count": 0,
      "outputs": []
    },
    {
      "cell_type": "code",
      "metadata": {
        "id": "g-bAUTLSSl25",
        "colab_type": "code",
        "colab": {}
      },
      "source": [
        "fabb(10)"
      ],
      "execution_count": 0,
      "outputs": []
    },
    {
      "cell_type": "markdown",
      "metadata": {
        "id": "4wIoR9SBj1ak",
        "colab_type": "text"
      },
      "source": [
        "## More on Defining function\n",
        "[Link](https://docs.python.org/3.6/tutorial/controlflow.html#more-on-defining-functions)\n",
        "## Define functions with a variable number of arguments.\n",
        "### Default Argument Values\n",
        "The most useful form is to specify a default value for one or more arguments. This creates a function that can be called with fewer arguments than it is defined to allow."
      ]
    },
    {
      "cell_type": "code",
      "metadata": {
        "id": "WLFDMpe_kJ2l",
        "colab_type": "code",
        "colab": {}
      },
      "source": [
        "def book_color(color='red'):\n",
        "  print(color)"
      ],
      "execution_count": 0,
      "outputs": []
    },
    {
      "cell_type": "code",
      "metadata": {
        "id": "h6x7pLD3kv7q",
        "colab_type": "code",
        "colab": {}
      },
      "source": [
        "book_color()"
      ],
      "execution_count": 0,
      "outputs": []
    },
    {
      "cell_type": "code",
      "metadata": {
        "id": "jpDgkE_qk74i",
        "colab_type": "code",
        "colab": {}
      },
      "source": [
        "book_color(color='green')"
      ],
      "execution_count": 0,
      "outputs": []
    },
    {
      "cell_type": "code",
      "metadata": {
        "id": "jzg7AsqHlKV5",
        "colab_type": "code",
        "colab": {}
      },
      "source": [
        "book_color()"
      ],
      "execution_count": 0,
      "outputs": []
    },
    {
      "cell_type": "markdown",
      "metadata": {
        "id": "uX2xLMJRnwo1",
        "colab_type": "text"
      },
      "source": [
        "# Function with multiple arguments\n",
        "## Keyword Arguments\n",
        "Functions can also be called using *keyword arguments* of the form keyword=value. For instance, the following function:"
      ]
    },
    {
      "cell_type": "code",
      "metadata": {
        "id": "RdW5ax2PoMZw",
        "colab_type": "code",
        "colab": {}
      },
      "source": [
        "def monkey(a,b='tail',c='eye',d='head'):\n",
        "  print('the first argument is about',a)\n",
        "  print('the second argument is about',b)\n",
        "  print('the third argument is about',c)\n",
        "  print('the fourth argument is about',d)"
      ],
      "execution_count": 0,
      "outputs": []
    },
    {
      "cell_type": "code",
      "metadata": {
        "id": "t_DE5DQ2pEPC",
        "colab_type": "code",
        "colab": {}
      },
      "source": [
        "monkey('men')"
      ],
      "execution_count": 0,
      "outputs": []
    },
    {
      "cell_type": "code",
      "metadata": {
        "id": "6e2eab6xpTHI",
        "colab_type": "code",
        "colab": {}
      },
      "source": [
        "monkey('monkey',b='monkey_tail')"
      ],
      "execution_count": 0,
      "outputs": []
    },
    {
      "cell_type": "code",
      "metadata": {
        "id": "4cniqHlZpek_",
        "colab_type": "code",
        "colab": {}
      },
      "source": [
        "monkey()"
      ],
      "execution_count": 0,
      "outputs": []
    }
  ]
}