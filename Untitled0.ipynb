{
  "nbformat": 4,
  "nbformat_minor": 0,
  "metadata": {
    "colab": {
      "name": "Untitled0.ipynb",
      "provenance": [],
      "collapsed_sections": [],
      "authorship_tag": "ABX9TyNUEE1ElmecHPHR4DlgCLFk",
      "include_colab_link": true
    },
    "kernelspec": {
      "name": "python3",
      "display_name": "Python 3"
    }
  },
  "cells": [
    {
      "cell_type": "markdown",
      "metadata": {
        "id": "view-in-github",
        "colab_type": "text"
      },
      "source": [
        "<a href=\"https://colab.research.google.com/github/NAJMUS7834/PythonGetwaysSolution/blob/master/Untitled0.ipynb\" target=\"_parent\"><img src=\"https://colab.research.google.com/assets/colab-badge.svg\" alt=\"Open In Colab\"/></a>"
      ]
    },
    {
      "cell_type": "markdown",
      "metadata": {
        "id": "ZaQGVXjHp8mv",
        "colab_type": "text"
      },
      "source": [
        "#1. Using Python As a Calculator\n",
        "\n",
        "\n",
        "*   data types-integer,float\n",
        "*   Variable Name\n",
        "*   Oprands\n",
        "*   value assignments\n",
        "\n",
        "```\n",
        "# This is formatted as code\n",
        "```\n",
        "\n",
        "\n",
        "\n",
        "\n",
        "\n"
      ]
    },
    {
      "cell_type": "code",
      "metadata": {
        "id": "oTgTKFwsoY56",
        "colab_type": "code",
        "colab": {}
      },
      "source": [
        "2+3 #Addition"
      ],
      "execution_count": 0,
      "outputs": []
    },
    {
      "cell_type": "code",
      "metadata": {
        "id": "_Fqjg9MMoq6S",
        "colab_type": "code",
        "colab": {}
      },
      "source": [
        "3-1 #Substraction"
      ],
      "execution_count": 0,
      "outputs": []
    },
    {
      "cell_type": "code",
      "metadata": {
        "id": "fiydC1ctot_v",
        "colab_type": "code",
        "colab": {}
      },
      "source": [
        "4/2 #Division"
      ],
      "execution_count": 0,
      "outputs": []
    },
    {
      "cell_type": "code",
      "metadata": {
        "id": "T7L5tiqIozQn",
        "colab_type": "code",
        "colab": {}
      },
      "source": [
        "5*2 #Multiplication"
      ],
      "execution_count": 0,
      "outputs": []
    },
    {
      "cell_type": "code",
      "metadata": {
        "id": "HUeDnQKno2cY",
        "colab_type": "code",
        "colab": {}
      },
      "source": [
        "5/2 #Division"
      ],
      "execution_count": 0,
      "outputs": []
    },
    {
      "cell_type": "code",
      "metadata": {
        "id": "cIAv5FLdvHJy",
        "colab_type": "code",
        "colab": {}
      },
      "source": [
        "5//2 #floor devision fractional part will be discarded"
      ],
      "execution_count": 0,
      "outputs": []
    },
    {
      "cell_type": "code",
      "metadata": {
        "id": "dn5Vi4QnvTGT",
        "colab_type": "code",
        "colab": {}
      },
      "source": [
        "6+4/2"
      ],
      "execution_count": 0,
      "outputs": []
    },
    {
      "cell_type": "code",
      "metadata": {
        "id": "xlzHs4SAvgue",
        "colab_type": "code",
        "colab": {}
      },
      "source": [
        "(6+4)/2 #parenthesis"
      ],
      "execution_count": 0,
      "outputs": []
    },
    {
      "cell_type": "code",
      "metadata": {
        "id": "Y4Uvx-pTy3_6",
        "colab_type": "code",
        "colab": {}
      },
      "source": [
        "n"
      ],
      "execution_count": 0,
      "outputs": []
    },
    {
      "cell_type": "markdown",
      "metadata": {
        "id": "8eMYn0Ho2wLf",
        "colab_type": "text"
      },
      "source": [
        "mix result of int and float will be float always"
      ]
    },
    {
      "cell_type": "code",
      "metadata": {
        "id": "90jjv_GS26pM",
        "colab_type": "code",
        "colab": {
          "base_uri": "https://localhost:8080/",
          "height": 34
        },
        "outputId": "bb3dc7f8-3419-43bb-e46f-b5a2f566a7b6"
      },
      "source": [
        "2+4*6.0-10"
      ],
      "execution_count": 20,
      "outputs": [
        {
          "output_type": "execute_result",
          "data": {
            "text/plain": [
              "16.0"
            ]
          },
          "metadata": {
            "tags": []
          },
          "execution_count": 20
        }
      ]
    },
    {
      "cell_type": "markdown",
      "metadata": {
        "id": "9gD5PYSn2Y1J",
        "colab_type": "text"
      },
      "source": [
        "## 2.Data Types"
      ]
    },
    {
      "cell_type": "code",
      "metadata": {
        "id": "abI_g3g52ev3",
        "colab_type": "code",
        "colab": {
          "base_uri": "https://localhost:8080/",
          "height": 34
        },
        "outputId": "32e58f73-485d-4a4c-8de2-7f371388e98d"
      },
      "source": [
        "type(1)"
      ],
      "execution_count": 17,
      "outputs": [
        {
          "output_type": "execute_result",
          "data": {
            "text/plain": [
              "int"
            ]
          },
          "metadata": {
            "tags": []
          },
          "execution_count": 17
        }
      ]
    },
    {
      "cell_type": "code",
      "metadata": {
        "id": "uoZlnl0b2kwI",
        "colab_type": "code",
        "colab": {
          "base_uri": "https://localhost:8080/",
          "height": 34
        },
        "outputId": "1d8e0613-65dc-4267-e49b-682ce4f94bb2"
      },
      "source": [
        "type(4.0)"
      ],
      "execution_count": 18,
      "outputs": [
        {
          "output_type": "execute_result",
          "data": {
            "text/plain": [
              "float"
            ]
          },
          "metadata": {
            "tags": []
          },
          "execution_count": 18
        }
      ]
    },
    {
      "cell_type": "code",
      "metadata": {
        "id": "2RC56JFq2orM",
        "colab_type": "code",
        "colab": {
          "base_uri": "https://localhost:8080/",
          "height": 34
        },
        "outputId": "61166140-a958-45a9-cd87-70a7b3cf9eea"
      },
      "source": [
        "type(5+4.0)"
      ],
      "execution_count": 19,
      "outputs": [
        {
          "output_type": "execute_result",
          "data": {
            "text/plain": [
              "float"
            ]
          },
          "metadata": {
            "tags": []
          },
          "execution_count": 19
        }
      ]
    },
    {
      "cell_type": "markdown",
      "metadata": {
        "id": "tLdl0X1h3DHS",
        "colab_type": "text"
      },
      "source": [
        "# Strings\n",
        "\n",
        "\n",
        "*   Object Creation with '...' and \".....\"\n",
        "*   syntax\n",
        "*   print\n",
        "*   Special keys- \\\n",
        "*   Concatination\n",
        "*   Working With this Sytring\n",
        "*   Indexing\n",
        "*   Slicing\n",
        "*   immutablity of strings\n",
        "*   length of strings\n",
        "\n",
        "\n",
        "\n",
        "\n",
        "\n",
        "\n",
        "\n",
        "\n"
      ]
    },
    {
      "cell_type": "code",
      "metadata": {
        "id": "OPgVPIvm66KJ",
        "colab_type": "code",
        "colab": {}
      },
      "source": [
        "king"
      ],
      "execution_count": 0,
      "outputs": []
    },
    {
      "cell_type": "code",
      "metadata": {
        "id": "oNrIiLZR4VyC",
        "colab_type": "code",
        "colab": {
          "base_uri": "https://localhost:8080/",
          "height": 34
        },
        "outputId": "b60f57c6-e873-4899-be81-42e67ec96463"
      },
      "source": [
        "'king'   #single quote"
      ],
      "execution_count": 21,
      "outputs": [
        {
          "output_type": "execute_result",
          "data": {
            "text/plain": [
              "'king'"
            ]
          },
          "metadata": {
            "tags": []
          },
          "execution_count": 21
        }
      ]
    },
    {
      "cell_type": "code",
      "metadata": {
        "id": "y6K64tqD6yef",
        "colab_type": "code",
        "colab": {
          "base_uri": "https://localhost:8080/",
          "height": 34
        },
        "outputId": "5820fc7f-5392-4297-ec55-0471b9c2093c"
      },
      "source": [
        "\"king\"  #double quote"
      ],
      "execution_count": 23,
      "outputs": [
        {
          "output_type": "execute_result",
          "data": {
            "text/plain": [
              "'king'"
            ]
          },
          "metadata": {
            "tags": []
          },
          "execution_count": 23
        }
      ]
    },
    {
      "cell_type": "code",
      "metadata": {
        "id": "t9UKkvUr69fC",
        "colab_type": "code",
        "colab": {
          "base_uri": "https://localhost:8080/",
          "height": 34
        },
        "outputId": "4a5c9896-c363-4fb1-900d-1dcd3533309a"
      },
      "source": [
        "'king's new lie'    #Use double quote to work around single quote"
      ],
      "execution_count": 26,
      "outputs": [
        {
          "output_type": "execute_result",
          "data": {
            "text/plain": [
              "\"king's new lie\""
            ]
          },
          "metadata": {
            "tags": []
          },
          "execution_count": 26
        }
      ]
    },
    {
      "cell_type": "code",
      "metadata": {
        "id": "cvzzfozG8KNZ",
        "colab_type": "code",
        "colab": {
          "base_uri": "https://localhost:8080/",
          "height": 34
        },
        "outputId": "6050c5e4-8288-4e78-b3fb-b81959c797cb"
      },
      "source": [
        "'king\\'s new lie'   #use '\\' symbol to work around single quote"
      ],
      "execution_count": 27,
      "outputs": [
        {
          "output_type": "execute_result",
          "data": {
            "text/plain": [
              "\"king's new lie\""
            ]
          },
          "metadata": {
            "tags": []
          },
          "execution_count": 27
        }
      ]
    },
    {
      "cell_type": "code",
      "metadata": {
        "id": "HsNVH3tz8_iT",
        "colab_type": "code",
        "colab": {
          "base_uri": "https://localhost:8080/",
          "height": 51
        },
        "outputId": "7c44abb8-5e07-4286-b385-e61565969c9d"
      },
      "source": [
        "print('line 1')\n",
        "print('line 2')"
      ],
      "execution_count": 28,
      "outputs": [
        {
          "output_type": "stream",
          "text": [
            "line 1\n",
            "line 2\n"
          ],
          "name": "stdout"
        }
      ]
    },
    {
      "cell_type": "code",
      "metadata": {
        "id": "BYFyEbpe9OdC",
        "colab_type": "code",
        "colab": {
          "base_uri": "https://localhost:8080/",
          "height": 51
        },
        "outputId": "f410c030-d25c-4a4b-cd7b-f6cb05bacdd1"
      },
      "source": [
        "print('c:\\Dropbox\\new')     #'\\n' will change line"
      ],
      "execution_count": 29,
      "outputs": [
        {
          "output_type": "stream",
          "text": [
            "c:\\Dropbox\n",
            "ew\n"
          ],
          "name": "stdout"
        }
      ]
    },
    {
      "cell_type": "code",
      "metadata": {
        "id": "ZrQCqB1c96r4",
        "colab_type": "code",
        "colab": {
          "base_uri": "https://localhost:8080/",
          "height": 34
        },
        "outputId": "607ca3d0-4aaf-4c23-85e5-8d890b709407"
      },
      "source": [
        "print(r'c:\\Dropbox\\new')     #'r' will take whole statement as raw string"
      ],
      "execution_count": 30,
      "outputs": [
        {
          "output_type": "stream",
          "text": [
            "c:\\Dropbox\\new\n"
          ],
          "name": "stdout"
        }
      ]
    },
    {
      "cell_type": "code",
      "metadata": {
        "id": "lsiKSCnY-lhC",
        "colab_type": "code",
        "colab": {
          "base_uri": "https://localhost:8080/",
          "height": 85
        },
        "outputId": "b41b94c0-298b-4a3a-96a7-1d06d51ebf72"
      },
      "source": [
        "print(\"\"\"\n",
        "i love\n",
        "python\n",
        "\"\"\")"
      ],
      "execution_count": 33,
      "outputs": [
        {
          "output_type": "stream",
          "text": [
            "\n",
            "i love\n",
            "python\n",
            "\n"
          ],
          "name": "stdout"
        }
      ]
    },
    {
      "cell_type": "code",
      "metadata": {
        "id": "QC-d_Q6__INW",
        "colab_type": "code",
        "colab": {
          "base_uri": "https://localhost:8080/",
          "height": 68
        },
        "outputId": "18f04be4-d92f-45ab-e59b-1d8e9fd4ac5e"
      },
      "source": [
        "print(\"\"\"\\\n",
        "i love\n",
        "python\n",
        "\"\"\")   \n",
        "#prevents automatic inclusion of end of line '\\'"
      ],
      "execution_count": 37,
      "outputs": [
        {
          "output_type": "stream",
          "text": [
            "i love\n",
            "python\n",
            "\n"
          ],
          "name": "stdout"
        }
      ]
    },
    {
      "cell_type": "markdown",
      "metadata": {
        "id": "W2UAm6UUGAtc",
        "colab_type": "text"
      },
      "source": [
        "**+** is use for concatination"
      ]
    },
    {
      "cell_type": "code",
      "metadata": {
        "id": "ycZBfJtsFutZ",
        "colab_type": "code",
        "colab": {
          "base_uri": "https://localhost:8080/",
          "height": 34
        },
        "outputId": "5546f1bd-4493-45ec-b8cf-ca5438150e7c"
      },
      "source": [
        "\"I love \"+\"Python\""
      ],
      "execution_count": 39,
      "outputs": [
        {
          "output_type": "execute_result",
          "data": {
            "text/plain": [
              "'I love Python'"
            ]
          },
          "metadata": {
            "tags": []
          },
          "execution_count": 39
        }
      ]
    },
    {
      "cell_type": "code",
      "metadata": {
        "id": "qn9Fy9u0GONB",
        "colab_type": "code",
        "colab": {
          "base_uri": "https://localhost:8080/",
          "height": 34
        },
        "outputId": "3a452c59-4b74-446d-f93d-a1ba6d72721e"
      },
      "source": [
        "10*' python'"
      ],
      "execution_count": 42,
      "outputs": [
        {
          "output_type": "execute_result",
          "data": {
            "text/plain": [
              "' python python python python python python python python python python'"
            ]
          },
          "metadata": {
            "tags": []
          },
          "execution_count": 42
        }
      ]
    },
    {
      "cell_type": "code",
      "metadata": {
        "id": "vjh8MGN6Gpek",
        "colab_type": "code",
        "colab": {
          "base_uri": "https://localhost:8080/",
          "height": 34
        },
        "outputId": "bda69a2a-c7bd-4a87-93f3-f9a9241da0a8"
      },
      "source": [
        "\"I love\"  \" Python\" #automatic merge"
      ],
      "execution_count": 43,
      "outputs": [
        {
          "output_type": "execute_result",
          "data": {
            "text/plain": [
              "'I love Python'"
            ]
          },
          "metadata": {
            "tags": []
          },
          "execution_count": 43
        }
      ]
    },
    {
      "cell_type": "code",
      "metadata": {
        "id": "5R8KxtiDHbgC",
        "colab_type": "code",
        "colab": {}
      },
      "source": [
        "FirstName='Najmus'"
      ],
      "execution_count": 0,
      "outputs": []
    },
    {
      "cell_type": "code",
      "metadata": {
        "id": "0GZ3hR03Higw",
        "colab_type": "code",
        "colab": {
          "base_uri": "https://localhost:8080/",
          "height": 34
        },
        "outputId": "173d50d3-2e76-419a-83e9-a2139d156a69"
      },
      "source": [
        "FirstName + ' Seemab'"
      ],
      "execution_count": 46,
      "outputs": [
        {
          "output_type": "execute_result",
          "data": {
            "text/plain": [
              "'Najmus Seemab'"
            ]
          },
          "metadata": {
            "tags": []
          },
          "execution_count": 46
        }
      ]
    },
    {
      "cell_type": "markdown",
      "metadata": {
        "id": "Igss1YHQIJ99",
        "colab_type": "text"
      },
      "source": [
        "# 3. Indexing\n",
        "python use 0-based Indexing"
      ]
    },
    {
      "cell_type": "code",
      "metadata": {
        "id": "lm88B1vhIgi4",
        "colab_type": "code",
        "colab": {}
      },
      "source": [
        "Sentance = \"I LOVE GetWays Solution\""
      ],
      "execution_count": 0,
      "outputs": []
    },
    {
      "cell_type": "code",
      "metadata": {
        "id": "KDuhU33bIz2g",
        "colab_type": "code",
        "colab": {
          "base_uri": "https://localhost:8080/",
          "height": 34
        },
        "outputId": "8052f8fa-eaaa-43be-d157-b299d3d77ce6"
      },
      "source": [
        "Sentance[0]"
      ],
      "execution_count": 48,
      "outputs": [
        {
          "output_type": "execute_result",
          "data": {
            "text/plain": [
              "'I'"
            ]
          },
          "metadata": {
            "tags": []
          },
          "execution_count": 48
        }
      ]
    },
    {
      "cell_type": "code",
      "metadata": {
        "id": "SmwX3z1fI3-t",
        "colab_type": "code",
        "colab": {
          "base_uri": "https://localhost:8080/",
          "height": 34
        },
        "outputId": "c6dc3f2b-4bcf-4333-ff73-e861c1e62031"
      },
      "source": [
        "Sentance[4]"
      ],
      "execution_count": 49,
      "outputs": [
        {
          "output_type": "execute_result",
          "data": {
            "text/plain": [
              "'V'"
            ]
          },
          "metadata": {
            "tags": []
          },
          "execution_count": 49
        }
      ]
    },
    {
      "cell_type": "code",
      "metadata": {
        "id": "34jZj4kcI8og",
        "colab_type": "code",
        "colab": {
          "base_uri": "https://localhost:8080/",
          "height": 34
        },
        "outputId": "83728dd2-9b4d-4c3b-9186-cfacd929189e"
      },
      "source": [
        "Sentance[-1]"
      ],
      "execution_count": 50,
      "outputs": [
        {
          "output_type": "execute_result",
          "data": {
            "text/plain": [
              "'n'"
            ]
          },
          "metadata": {
            "tags": []
          },
          "execution_count": 50
        }
      ]
    },
    {
      "cell_type": "code",
      "metadata": {
        "id": "1G6vkfaIJCsm",
        "colab_type": "code",
        "colab": {
          "base_uri": "https://localhost:8080/",
          "height": 34
        },
        "outputId": "c39cd0e9-818e-4941-fedf-ad0d3babe4b4"
      },
      "source": [
        "Sentance[-4]"
      ],
      "execution_count": 51,
      "outputs": [
        {
          "output_type": "execute_result",
          "data": {
            "text/plain": [
              "'t'"
            ]
          },
          "metadata": {
            "tags": []
          },
          "execution_count": 51
        }
      ]
    }
  ]
}